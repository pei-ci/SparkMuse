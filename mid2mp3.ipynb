{
 "cells": [
  {
   "cell_type": "code",
   "execution_count": 12,
   "id": "35622a20",
   "metadata": {},
   "outputs": [],
   "source": [
    "import os\n",
    "import pydub\n",
    "import glob\n",
    "from midi2audio import FluidSynth\n",
    "#mid to wav\n",
    "soundfont = \"sound_font\\\\sound_font1.sf2\"\n",
    "path = \"Developing_Function\\\\music\\\\\"\n",
    "mid_files = glob.glob(path+\"*.mid\")\n",
    "\n",
    "for mid_file in mid_files:\n",
    "    fs = FluidSynth(sound_font=soundfont)#, sample_rate=22050)\n",
    "    fs.midi_to_audio(mid_file, mid_file[:-3]+\"wav\")\n",
    "# wav to mp3\n",
    "wav_files = glob.glob('Developing_Function\\\\music\\\\*.wav')\n",
    "for wav_file in wav_files:\n",
    "    mp3_file = os.path.splitext(wav_file)[0] + '.mp3'\n",
    "    sound = pydub.AudioSegment.from_wav(wav_file)\n",
    "    sound.export(mp3_file, format=\"mp3\")"
   ]
  },
  {
   "cell_type": "code",
   "execution_count": 5,
   "id": "859ec999",
   "metadata": {},
   "outputs": [
    {
     "data": {
      "text/plain": [
       "'Developing_Function\\\\music\\\\Country_Negative0-2.'"
      ]
     },
     "execution_count": 5,
     "metadata": {},
     "output_type": "execute_result"
    }
   ],
   "source": [
    "mid_files[0][:-3]"
   ]
  },
  {
   "cell_type": "code",
   "execution_count": null,
   "id": "06e7d55a",
   "metadata": {},
   "outputs": [],
   "source": []
  }
 ],
 "metadata": {
  "kernelspec": {
   "display_name": "Python 3 (ipykernel)",
   "language": "python",
   "name": "python3"
  },
  "language_info": {
   "codemirror_mode": {
    "name": "ipython",
    "version": 3
   },
   "file_extension": ".py",
   "mimetype": "text/x-python",
   "name": "python",
   "nbconvert_exporter": "python",
   "pygments_lexer": "ipython3",
   "version": "3.9.5"
  }
 },
 "nbformat": 4,
 "nbformat_minor": 5
}
