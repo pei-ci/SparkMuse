{
 "cells": [
  {
   "cell_type": "code",
   "execution_count": 1,
   "id": "8e5f835d",
   "metadata": {},
   "outputs": [],
   "source": [
    "class SparkMuse:\n",
    "    def __init__(self, highlight_info, emotion_info):\n",
    "        self.highlight = highlight_info\n",
    "        self.emotion = emotion_info\n",
    "        self.result_path = './sparkmusic/test.mid'\n",
    "\n",
    "    def generate(self):\n",
    "        # ...\n",
    "        result = self.get_result_path()\n",
    "        return result\n",
    "\n",
    "    def get_result_path(self):\n",
    "        return self.result_path"
   ]
  },
  {
   "cell_type": "code",
   "execution_count": 2,
   "id": "131484c8",
   "metadata": {},
   "outputs": [],
   "source": [
    "# How to use\n",
    "highlight = [0, 1, 0]  # undefined\n",
    "emotion = [1, 5, 0]  # undefined\n",
    "muse = SparkMuse(highlight, emotion)\n",
    "result_music = muse.generate()"
   ]
  },
  {
   "cell_type": "code",
   "execution_count": null,
   "id": "db946d77",
   "metadata": {},
   "outputs": [],
   "source": []
  }
 ],
 "metadata": {
  "kernelspec": {
   "display_name": "Python 3 (ipykernel)",
   "language": "python",
   "name": "python3"
  },
  "language_info": {
   "codemirror_mode": {
    "name": "ipython",
    "version": 3
   },
   "file_extension": ".py",
   "mimetype": "text/x-python",
   "name": "python",
   "nbconvert_exporter": "python",
   "pygments_lexer": "ipython3",
   "version": "3.9.5"
  }
 },
 "nbformat": 4,
 "nbformat_minor": 5
}
