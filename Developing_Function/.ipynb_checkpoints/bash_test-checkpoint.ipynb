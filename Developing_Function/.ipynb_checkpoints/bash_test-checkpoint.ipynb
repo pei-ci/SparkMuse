{
 "cells": [
  {
   "cell_type": "code",
   "execution_count": 2,
   "id": "7c48b16b",
   "metadata": {},
   "outputs": [],
   "source": [
    "from subprocess import Popen\n",
    "p = Popen(\"test.bat\")\n",
    "stdout, stderr = p.communicate()"
   ]
  },
  {
   "cell_type": "code",
   "execution_count": null,
   "id": "a64c82ab",
   "metadata": {},
   "outputs": [],
   "source": []
  }
 ],
 "metadata": {
  "kernelspec": {
   "display_name": "Python 3 (ipykernel)",
   "language": "python",
   "name": "python3"
  },
  "language_info": {
   "codemirror_mode": {
    "name": "ipython",
    "version": 3
   },
   "file_extension": ".py",
   "mimetype": "text/x-python",
   "name": "python",
   "nbconvert_exporter": "python",
   "pygments_lexer": "ipython3",
   "version": "3.9.5"
  }
 },
 "nbformat": 4,
 "nbformat_minor": 5
}
