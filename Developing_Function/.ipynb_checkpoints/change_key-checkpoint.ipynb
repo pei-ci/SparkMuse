{
 "cells": [
  {
   "cell_type": "code",
   "execution_count": 7,
   "id": "c75bf7ce",
   "metadata": {},
   "outputs": [
    {
     "name": "stdout",
     "output_type": "stream",
     "text": [
      "['', '']\n",
      "['', ' kfdfs']\n",
      "['', 'dfsdf']\n"
     ]
    }
   ],
   "source": [
    "text = ['一二三四,,123456,,fffehjfhjd', '2dfsfsdf,, hjfdk, kfdfs,dff', 'dsfdskj,,,dfsdf']\n",
    "for line in text:\n",
    "    result = line.split(',')[1::2]\n",
    "    print(result)"
   ]
  },
  {
   "cell_type": "code",
   "execution_count": 5,
   "id": "da3d2a5d",
   "metadata": {},
   "outputs": [
    {
     "name": "stdout",
     "output_type": "stream",
     "text": [
      "[2, 4]\n"
     ]
    }
   ],
   "source": [
    "a = [1,2,3,4]\n",
    "print(a[1::2])"
   ]
  },
  {
   "cell_type": "code",
   "execution_count": null,
   "id": "d8a12c62",
   "metadata": {},
   "outputs": [],
   "source": []
  }
 ],
 "metadata": {
  "kernelspec": {
   "display_name": "Python 3 (ipykernel)",
   "language": "python",
   "name": "python3"
  },
  "language_info": {
   "codemirror_mode": {
    "name": "ipython",
    "version": 3
   },
   "file_extension": ".py",
   "mimetype": "text/x-python",
   "name": "python",
   "nbconvert_exporter": "python",
   "pygments_lexer": "ipython3",
   "version": "3.9.5"
  }
 },
 "nbformat": 4,
 "nbformat_minor": 5
}
