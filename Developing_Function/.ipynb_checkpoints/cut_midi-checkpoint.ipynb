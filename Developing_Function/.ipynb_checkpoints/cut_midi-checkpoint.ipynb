{
 "cells": [
  {
   "cell_type": "code",
   "execution_count": 44,
   "id": "f351ac1f",
   "metadata": {},
   "outputs": [],
   "source": [
    "from mido import MidiFile, tick2second\n",
    "import copy"
   ]
  },
  {
   "cell_type": "code",
   "execution_count": 38,
   "id": "3d7812fe",
   "metadata": {},
   "outputs": [],
   "source": [
    "def get_etime(midi):\n",
    "    max_etime=0\n",
    "    for track in midi.tracks:\n",
    "        etime=0\n",
    "        for msg in track:\n",
    "            etime+=msg.time\n",
    "        if etime>max_etime:\n",
    "            max_etime=etime\n",
    "    return max_etime"
   ]
  },
  {
   "cell_type": "code",
   "execution_count": 39,
   "id": "0b297427",
   "metadata": {},
   "outputs": [],
   "source": [
    "mid = MidiFile('SurpriseTest.mid')"
   ]
  },
  {
   "cell_type": "code",
   "execution_count": 40,
   "id": "9f802728",
   "metadata": {},
   "outputs": [],
   "source": [
    "mid_cut=copy.deepcopy(mid)"
   ]
  },
  {
   "cell_type": "code",
   "execution_count": 41,
   "id": "eb529a09",
   "metadata": {},
   "outputs": [],
   "source": [
    "for i in range(len(mid_cut.tracks)):\n",
    "    mid_cut.tracks[i].clear()"
   ]
  },
  {
   "cell_type": "code",
   "execution_count": 42,
   "id": "a1a1148c",
   "metadata": {},
   "outputs": [],
   "source": [
    "for i in range(len(mid.tracks)):\n",
    "    time=0\n",
    "    for msg in mid.tracks[i]:\n",
    "        time += msg.time\n",
    "        ab_time = tick2second(time, mid.ticks_per_beat, 600000)\n",
    "        if ab_time<=20:\n",
    "            mid_cut.tracks[i].append(msg)"
   ]
  },
  {
   "cell_type": "code",
   "execution_count": 43,
   "id": "ace977d1",
   "metadata": {},
   "outputs": [],
   "source": [
    "mid_cut.save('cut_test.mid')"
   ]
  },
  {
   "cell_type": "code",
   "execution_count": 9,
   "id": "94aeb948",
   "metadata": {},
   "outputs": [],
   "source": [
    "#pretty_midi test\n",
    "import pretty_midi\n",
    "midi_data = pretty_midi.PrettyMIDI('midi_file/base_chord.mid')"
   ]
  }
 ],
 "metadata": {
  "kernelspec": {
   "display_name": "Python 3 (ipykernel)",
   "language": "python",
   "name": "python3"
  },
  "language_info": {
   "codemirror_mode": {
    "name": "ipython",
    "version": 3
   },
   "file_extension": ".py",
   "mimetype": "text/x-python",
   "name": "python",
   "nbconvert_exporter": "python",
   "pygments_lexer": "ipython3",
   "version": "3.9.5"
  }
 },
 "nbformat": 4,
 "nbformat_minor": 5
}
