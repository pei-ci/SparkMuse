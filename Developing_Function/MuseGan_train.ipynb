{
 "cells": [
  {
   "cell_type": "code",
   "execution_count": 1,
   "id": "87520192",
   "metadata": {},
   "outputs": [],
   "source": [
    "# https://ldzhangyx.github.io/2020/01/13/music-practice/"
   ]
  },
  {
   "cell_type": "code",
   "execution_count": 2,
   "id": "e43f8f28",
   "metadata": {},
   "outputs": [],
   "source": [
    "# Lakh Pianoroll Dataset"
   ]
  },
  {
   "cell_type": "code",
   "execution_count": 1,
   "id": "a3d39462",
   "metadata": {},
   "outputs": [],
   "source": [
    "from IPython.display import clear_output\n",
    "from ipywidgets import interact, IntSlider\n",
    "\n",
    "import os\n",
    "import os.path\n",
    "import random\n",
    "from pathlib import Path\n",
    "\n",
    "import numpy as np\n",
    "import matplotlib.pyplot as plt\n",
    "import torch\n",
    "import pypianoroll\n",
    "from pypianoroll import Multitrack, Track, StandardTrack\n",
    "from tqdm import tqdm\n",
    "from livelossplot import PlotLosses\n",
    "from livelossplot.outputs import MatplotlibPlot"
   ]
  },
  {
   "cell_type": "code",
   "execution_count": 2,
   "id": "8ad88b4f",
   "metadata": {},
   "outputs": [],
   "source": [
    "dataset_root = Path(\"D:/midi_data/lpd_5/lpd_5_cleansed/\")\n",
    "id_list = []\n",
    "\"\"\"for path in os.listdir(\"D:/midi_data/amg\"):\n",
    "    filepath = os.path.join(\"D:/midi_data/amg\", path)\n",
    "    if os.path.isfile(filepath):\n",
    "        with open(filepath) as f:\n",
    "            id_list.extend([line.rstrip() for line in f])\n",
    "\"\"\"\n",
    "filepath = os.path.join(\"D:/midi_data/amg\", \"id_list_else.txt\")\n",
    "if os.path.isfile(filepath):\n",
    "    with open(filepath) as f:\n",
    "        id_list.extend([line.rstrip() for line in f])\n",
    "id_list = list(set(id_list))"
   ]
  },
  {
   "cell_type": "code",
   "execution_count": 4,
   "id": "9c6178f2",
   "metadata": {},
   "outputs": [],
   "source": [
    "# Data\n",
    "n_tracks = 5  # number of tracks\n",
    "n_pitches = 72  # number of pitches\n",
    "lowest_pitch = 24  # MIDI note number of the lowest pitch\n",
    "n_samples_per_song = 8  # number of samples to extract from each song in the datset\n",
    "n_measures = 4  # number of measures per sample\n",
    "beat_resolution = 4  # temporal resolution of a beat (in timestep)\n",
    "programs = [0, 0, 25, 33, 48]  # program number for each track\n",
    "is_drums = [True, False, False, False, False]  # drum indicator for each track\n",
    "track_names = ['Drums', 'Piano', 'Guitar', 'Bass', 'Strings']  # name of each track\n",
    "tempo = 100\n",
    "\n",
    "# Training\n",
    "batch_size = 16\n",
    "latent_dim = 128\n",
    "n_steps = 9000\n",
    "\n",
    "# Sampling\n",
    "sample_interval = 100  # interval to run the sampler (in step)\n",
    "n_samples = 4"
   ]
  },
  {
   "cell_type": "code",
   "execution_count": 5,
   "id": "930919e1",
   "metadata": {},
   "outputs": [],
   "source": [
    "# Data\n",
    "n_tracks = 1  # number of tracks\n",
    "n_pitches = 72  # number of pitches\n",
    "lowest_pitch = 24  # MIDI note number of the lowest pitch\n",
    "n_samples_per_song = 8  # number of samples to extract from each song in the datset\n",
    "n_measures = 4  # number of measures per sample\n",
    "beat_resolution = 4  # temporal resolution of a beat (in timestep)\n",
    "programs = [0]  # program number for each track\n",
    "is_drums = [False]  # drum indicator for each track\n",
    "track_names = ['Piano']  # name of each track\n",
    "tempo = 100\n",
    "\n",
    "# Training\n",
    "batch_size = 16\n",
    "latent_dim = 128\n",
    "n_steps = 9000\n",
    "\n",
    "# Sampling\n",
    "sample_interval = 100  # interval to run the sampler (in step)\n",
    "n_samples = 4"
   ]
  },
  {
   "cell_type": "code",
   "execution_count": 6,
   "id": "67904154",
   "metadata": {},
   "outputs": [],
   "source": [
    "measure_resolution = 4 * beat_resolution\n",
    "tempo_array = np.full((4 * 4 * measure_resolution, 1), tempo)\n",
    "assert 24 % beat_resolution == 0, (\n",
    "    \"beat_resolution must be a factor of 24 (the beat resolution used in \"\n",
    "    \"the source dataset).\"\n",
    ")\n",
    "assert len(programs) == len(is_drums) and len(programs) == len(track_names), (\n",
    "    \"Lengths of programs, is_drums and track_names must be the same.\"\n",
    ")"
   ]
  },
  {
   "cell_type": "code",
   "execution_count": 7,
   "id": "68a0213a",
   "metadata": {},
   "outputs": [],
   "source": [
    "def msd_id_to_dirs(msd_id):\n",
    "    \"\"\"Given an MSD ID, generate the path prefix.\n",
    "    E.g. TRABCD12345678 -> A/B/C/TRABCD12345678\"\"\"\n",
    "    return os.path.join(msd_id[2], msd_id[3], msd_id[4], msd_id)"
   ]
  },
  {
   "cell_type": "code",
   "execution_count": 8,
   "id": "3bd3dfdb",
   "metadata": {},
   "outputs": [
    {
     "name": "stderr",
     "output_type": "stream",
     "text": [
      "100%|████████████████████████████████████████████████████████████████████████████████████| 5/5 [00:02<00:00,  2.32it/s]"
     ]
    },
    {
     "name": "stdout",
     "output_type": "stream",
     "text": [
      "Successfully collect 40 samples from 5 songs\n",
      "Data shape : (40, 1, 64, 72)\n"
     ]
    },
    {
     "name": "stderr",
     "output_type": "stream",
     "text": [
      "\n"
     ]
    }
   ],
   "source": [
    "data = []\n",
    "# Iterate over all the songs in the ID list\n",
    "for msd_id in tqdm(id_list):\n",
    "    # Load the multitrack as a pypianoroll.Multitrack instance\n",
    "    song_dir = dataset_root / msd_id_to_dirs(msd_id)\n",
    "    #multitrack = pypianoroll.load(song_dir / os.listdir(song_dir)[0])\n",
    "    multitrack = pypianoroll.read(song_dir / os.listdir(song_dir)[0])\n",
    "    # Binarize the pianorolls\n",
    "    multitrack.binarize()\n",
    "    # Downsample the pianorolls (shape: n_timesteps x n_pitches)\n",
    "    multitrack.set_resolution(beat_resolution)\n",
    "    # Stack the pianoroll (shape: n_tracks x n_timesteps x n_pitches)\n",
    "    pianoroll = (multitrack.stack() > 0)\n",
    "    # Get the target pitch range only\n",
    "    pianoroll = pianoroll[:, :, lowest_pitch:lowest_pitch + n_pitches]\n",
    "    # Calculate the total measures\n",
    "    n_total_measures = multitrack.get_max_length() // measure_resolution\n",
    "    candidate = n_total_measures - n_measures\n",
    "    target_n_samples = min(n_total_measures // n_measures, n_samples_per_song)\n",
    "    # Randomly select a number of phrases from the multitrack pianoroll\n",
    "    for idx in np.random.choice(candidate, target_n_samples, False):\n",
    "        start = idx * measure_resolution\n",
    "        end = (idx + n_measures) * measure_resolution\n",
    "        # Skip the samples where some track(s) has too few notes\n",
    "        if (pianoroll.sum(axis=(1, 2)) < 10).any():\n",
    "            continue\n",
    "        data.append(pianoroll[:, start:end])\n",
    "# Stack all the collected pianoroll segments into one big array\n",
    "random.shuffle(data)\n",
    "data = np.stack(data)\n",
    "print(f\"Successfully collect {len(data)} samples from {len(id_list)} songs\")\n",
    "print(f\"Data shape : {data.shape}\")"
   ]
  },
  {
   "cell_type": "code",
   "execution_count": 9,
   "id": "90b947b3",
   "metadata": {},
   "outputs": [],
   "source": [
    "import random\n",
    "selected_data = []\n",
    "max = len(data)\n",
    "ind_list = list(range(0, max))\n",
    "n = 1000\n",
    "if max < n:\n",
    "    n = max\n",
    "selected_ind = random.sample(ind_list, n)\n",
    "selected_ind = sorted(selected_ind)\n",
    "for ind in selected_ind:\n",
    "    selected_data.append(data[ind])\n",
    "selected_data = np.stack(selected_data)"
   ]
  },
  {
   "cell_type": "code",
   "execution_count": 10,
   "id": "0a404e01",
   "metadata": {},
   "outputs": [],
   "source": [
    "#data = torch.as_tensor(data, dtype=torch.float32)\n",
    "selected_data = torch.as_tensor(selected_data, dtype=torch.float32)\n",
    "dataset = torch.utils.data.TensorDataset(selected_data)\n",
    "data_loader = torch.utils.data.DataLoader(\n",
    "    dataset, batch_size=batch_size, drop_last=True, shuffle=True)"
   ]
  },
  {
   "cell_type": "code",
   "execution_count": 11,
   "id": "6ec47252",
   "metadata": {},
   "outputs": [],
   "source": [
    "class GeneraterBlock(torch.nn.Module):\n",
    "    def __init__(self, in_dim, out_dim, kernel, stride):\n",
    "        super().__init__()\n",
    "        self.transconv = torch.nn.ConvTranspose3d(in_dim, out_dim, kernel, stride)\n",
    "        self.batchnorm = torch.nn.BatchNorm3d(out_dim)\n",
    "    \n",
    "    def forward(self, x):\n",
    "        x = self.transconv(x)\n",
    "        x = self.batchnorm(x)\n",
    "        return torch.nn.functional.relu(x)"
   ]
  },
  {
   "cell_type": "code",
   "execution_count": 12,
   "id": "ceda26f4",
   "metadata": {},
   "outputs": [],
   "source": [
    "class Generator(torch.nn.Module):\n",
    "    \"\"\"A convolutional neural network (CNN) based generator. The generator takes\n",
    "    as input a latent vector and outputs a fake sample.\"\"\"\n",
    "    def __init__(self):\n",
    "        super().__init__()\n",
    "        self.transconv0 = GeneraterBlock(latent_dim, 256, (4, 1, 1), (4, 1, 1))\n",
    "        self.transconv1 = GeneraterBlock(256, 128, (1, 4, 1), (1, 4, 1))\n",
    "        self.transconv2 = GeneraterBlock(128, 64, (1, 1, 4), (1, 1, 4))\n",
    "        self.transconv3 = GeneraterBlock(64, 32, (1, 1, 3), (1, 1, 1))\n",
    "        self.transconv4 = torch.nn.ModuleList([\n",
    "            GeneraterBlock(32, 16, (1, 4, 1), (1, 4, 1))\n",
    "            for _ in range(n_tracks)\n",
    "        ])\n",
    "        self.transconv5 = torch.nn.ModuleList([\n",
    "            GeneraterBlock(16, 1, (1, 1, 12), (1, 1, 12))\n",
    "            for _ in range(n_tracks)\n",
    "        ])\n",
    "\n",
    "    def forward(self, x):\n",
    "        x = x.view(-1, latent_dim, 1, 1, 1)\n",
    "        x = self.transconv0(x)\n",
    "        x = self.transconv1(x)\n",
    "        x = self.transconv2(x)\n",
    "        x = self.transconv3(x)\n",
    "        x = [transconv(x) for transconv in self.transconv4]\n",
    "        x = torch.cat([transconv(x_) for x_, transconv in zip(x, self.transconv5)], 1)\n",
    "        x = x.view(-1, n_tracks, n_measures * measure_resolution, n_pitches)\n",
    "        return x"
   ]
  },
  {
   "cell_type": "code",
   "execution_count": 13,
   "id": "5e090bc9",
   "metadata": {},
   "outputs": [],
   "source": [
    "class LayerNorm(torch.nn.Module):\n",
    "    \"\"\"An implementation of Layer normalization that does not require size\n",
    "    information. Copied from https://github.com/pytorch/pytorch/issues/1959.\"\"\"\n",
    "    def __init__(self, n_features, eps=1e-5, affine=True):\n",
    "        super().__init__()\n",
    "        self.n_features = n_features\n",
    "        self.affine = affine\n",
    "        self.eps = eps\n",
    "        if self.affine:\n",
    "            self.gamma = torch.nn.Parameter(torch.Tensor(n_features).uniform_())\n",
    "            self.beta = torch.nn.Parameter(torch.zeros(n_features))\n",
    "\n",
    "    def forward(self, x):\n",
    "        shape = [-1] + [1] * (x.dim() - 1)\n",
    "        mean = x.view(x.size(0), -1).mean(1).view(*shape)\n",
    "        std = x.view(x.size(0), -1).std(1).view(*shape)\n",
    "        y = (x - mean) / (std + self.eps)\n",
    "        if self.affine:\n",
    "            shape = [1, -1] + [1] * (x.dim() - 2)\n",
    "            y = self.gamma.view(*shape) * y + self.beta.view(*shape)\n",
    "        return y"
   ]
  },
  {
   "cell_type": "code",
   "execution_count": 14,
   "id": "f16b569e",
   "metadata": {},
   "outputs": [],
   "source": [
    "class DiscriminatorBlock(torch.nn.Module):\n",
    "    def __init__(self, in_dim, out_dim, kernel, stride):\n",
    "        super().__init__()\n",
    "        self.transconv = torch.nn.Conv3d(in_dim, out_dim, kernel, stride)\n",
    "        self.layernorm = LayerNorm(out_dim)\n",
    "    \n",
    "    def forward(self, x):\n",
    "        x = self.transconv(x)\n",
    "        x = self.layernorm(x)\n",
    "        return torch.nn.functional.leaky_relu(x)"
   ]
  },
  {
   "cell_type": "code",
   "execution_count": 15,
   "id": "4f198183",
   "metadata": {},
   "outputs": [],
   "source": [
    "class Discriminator(torch.nn.Module):\n",
    "    \"\"\"A convolutional neural network (CNN) based discriminator. The\n",
    "    discriminator takes as input either a real sample (in the training data) or\n",
    "    a fake sample (generated by the generator) and outputs a scalar indicating\n",
    "    its authentity.\n",
    "    \"\"\"\n",
    "    def __init__(self):\n",
    "        super().__init__()\n",
    "        self.conv0 = torch.nn.ModuleList([\n",
    "            DiscriminatorBlock(1, 16, (1, 1, 12), (1, 1, 12)) for _ in range(n_tracks)\n",
    "        ])\n",
    "        self.conv1 = torch.nn.ModuleList([\n",
    "            DiscriminatorBlock(16, 16, (1, 4, 1), (1, 4, 1)) for _ in range(n_tracks)\n",
    "        ])\n",
    "        self.conv2 = DiscriminatorBlock(16 * n_tracks, 64, (1, 1, 3), (1, 1, 1))\n",
    "        self.conv3 = DiscriminatorBlock(64, 64, (1, 1, 4), (1, 1, 4))\n",
    "        self.conv4 = DiscriminatorBlock(64, 128, (1, 4, 1), (1, 4, 1))\n",
    "        self.conv5 = DiscriminatorBlock(128, 128, (2, 1, 1), (1, 1, 1))\n",
    "        self.conv6 = DiscriminatorBlock(128, 256, (3, 1, 1), (3, 1, 1))\n",
    "        self.dense = torch.nn.Linear(256, 1)\n",
    "\n",
    "    def forward(self, x):\n",
    "        x = x.view(-1, n_tracks, n_measures, measure_resolution, n_pitches)\n",
    "        x = [conv(x[:, [i]]) for i, conv in enumerate(self.conv0)]\n",
    "        x = torch.cat([conv(x_) for x_, conv in zip(x, self.conv1)], 1)\n",
    "        x = self.conv2(x)\n",
    "        x = self.conv3(x)          \n",
    "        x = self.conv4(x)\n",
    "        x = self.conv5(x)\n",
    "        x = self.conv6(x)\n",
    "        x = x.view(-1, 256)\n",
    "        x = self.dense(x)\n",
    "        return x"
   ]
  },
  {
   "cell_type": "code",
   "execution_count": 16,
   "id": "0e729db4",
   "metadata": {},
   "outputs": [],
   "source": [
    "def compute_gradient_penalty(discriminator, real_samples, fake_samples):\n",
    "    \"\"\"Compute the gradient penalty for regularization. Intuitively, the\n",
    "    gradient penalty help stablize the magnitude of the gradients that the\n",
    "    discriminator provides to the generator, and thus help stablize the training\n",
    "    of the generator.\"\"\"\n",
    "    # Get random interpolations between real and fake samples\n",
    "    alpha = torch.rand(real_samples.size(0), 1, 1, 1).cuda()\n",
    "    interpolates = (alpha * real_samples + ((1 - alpha) * fake_samples))\n",
    "    interpolates = interpolates.requires_grad_(True)\n",
    "    # Get the discriminator output for the interpolations\n",
    "    d_interpolates = discriminator(interpolates)\n",
    "    # Get gradients w.r.t. the interpolations\n",
    "    fake = torch.ones(real_samples.size(0), 1).cuda()\n",
    "    gradients = torch.autograd.grad(\n",
    "        outputs=d_interpolates,\n",
    "        inputs=interpolates,\n",
    "        grad_outputs=fake,\n",
    "        create_graph=True,\n",
    "        retain_graph=True,\n",
    "        only_inputs=True\n",
    "    )[0]\n",
    "    # Compute gradient penalty\n",
    "    gradients = gradients.view(gradients.size(0), -1)\n",
    "    gradient_penalty = ((gradients.norm(2, dim=1) - 1) ** 2).mean()\n",
    "    return gradient_penalty "
   ]
  },
  {
   "cell_type": "code",
   "execution_count": 17,
   "id": "d2008a4d",
   "metadata": {},
   "outputs": [],
   "source": [
    "def train_one_step(d_optimizer, g_optimizer, real_samples):\n",
    "    \"\"\"Train the networks for one step.\"\"\"\n",
    "    \n",
    "    latent = torch.randn(batch_size, latent_dim)\n",
    "\n",
    "    # Transfer data to GPU\n",
    "    if torch.cuda.is_available():\n",
    "        real_samples = real_samples.cuda()\n",
    "        latent = latent.cuda()\n",
    "    \n",
    "    # === Train the discriminator ===\n",
    "    # Reset cached gradients to zero\n",
    "    d_optimizer.zero_grad()\n",
    "    # Get discriminator outputs for the real samples\n",
    "    prediction_real = discriminator(real_samples)\n",
    "    # Compute the loss function\n",
    "    # d_loss_real = torch.mean(torch.nn.functional.relu(1. - prediction_real))\n",
    "    d_loss_real = -torch.mean(prediction_real)\n",
    "    # Backpropagate the gradients\n",
    "    d_loss_real.backward()\n",
    "    \n",
    "    # Generate fake samples with the generator\n",
    "    fake_samples = generator(latent)\n",
    "    # Get discriminator outputs for the fake samples\n",
    "    prediction_fake_d = discriminator(fake_samples.detach())\n",
    "    # Compute the loss function\n",
    "    # d_loss_fake = torch.mean(torch.nn.functional.relu(1. + prediction_fake_d))\n",
    "    d_loss_fake = torch.mean(prediction_fake_d)\n",
    "    # Backpropagate the gradients\n",
    "    d_loss_fake.backward()\n",
    "\n",
    "    # Compute gradient penalty\n",
    "    gradient_penalty = 10.0 * compute_gradient_penalty(\n",
    "        discriminator, real_samples.data, fake_samples.data)\n",
    "    # Backpropagate the gradients\n",
    "    gradient_penalty.backward()\n",
    "\n",
    "    # Update the weights\n",
    "    d_optimizer.step()\n",
    "    \n",
    "    # === Train the generator ===\n",
    "    # Reset cached gradients to zero\n",
    "    g_optimizer.zero_grad()\n",
    "    # Get discriminator outputs for the fake samples\n",
    "    prediction_fake_g = discriminator(fake_samples)\n",
    "    # Compute the loss function\n",
    "    g_loss = -torch.mean(prediction_fake_g)\n",
    "    # Backpropagate the gradients\n",
    "    g_loss.backward()\n",
    "    # Update the weights\n",
    "    g_optimizer.step()\n",
    "\n",
    "    return d_loss_real + d_loss_fake, g_loss"
   ]
  },
  {
   "cell_type": "code",
   "execution_count": 18,
   "id": "d77cc92a",
   "metadata": {},
   "outputs": [
    {
     "name": "stdout",
     "output_type": "stream",
     "text": [
      "Number of parameters in G: 304787\n",
      "Number of parameters in D: 186785\n"
     ]
    }
   ],
   "source": [
    "# Create data loader\n",
    "# data_loader = get_data_loader()\n",
    "\n",
    "# Create neural networks\n",
    "discriminator = Discriminator()\n",
    "generator = Generator()\n",
    "print(\"Number of parameters in G: {}\".format(\n",
    "    sum(p.numel() for p in generator.parameters() if p.requires_grad)))\n",
    "print(\"Number of parameters in D: {}\".format(\n",
    "    sum(p.numel() for p in discriminator.parameters() if p.requires_grad)))\n",
    "\n",
    "# Create optimizers\n",
    "d_optimizer = torch.optim.Adam(\n",
    "    discriminator.parameters(), lr=0.001,  betas=(0.5, 0.9))\n",
    "g_optimizer = torch.optim.Adam(\n",
    "    generator.parameters(), lr=0.001, betas=(0.5, 0.9))\n",
    "\n",
    "# Prepare the inputs for the sampler, which wil run during the training\n",
    "sample_latent = torch.randn(n_samples, latent_dim)\n",
    "\n",
    "# Transfer the neural nets and samples to GPU\n",
    "if torch.cuda.is_available():\n",
    "    discriminator = discriminator.cuda()\n",
    "    generator = generator.cuda()\n",
    "    sample_latent = sample_latent.cuda()\n",
    "\n",
    "# Create an empty dictionary to sotre history samples\n",
    "history_samples = {}\n",
    "\n",
    "# Create a LiveLoss logger instance for monitoring\n",
    "liveloss = PlotLosses(outputs=[MatplotlibPlot(cell_size=(6,2))])\n",
    "\n",
    "# Initialize step\n",
    "step = 0"
   ]
  },
  {
   "cell_type": "code",
   "execution_count": 19,
   "id": "4719bc00",
   "metadata": {},
   "outputs": [
    {
     "data": {
      "image/png": "[encoded data removed]",
      "text/plain": [
       "<Figure size 1600x800 with 1 Axes>"
      ]
     },
     "metadata": {},
     "output_type": "display_data"
    },
    {
     "name": "stderr",
     "output_type": "stream",
     "text": [
      "(d_loss= 0.105438, g_loss=-0.685565): 100%|███████| 1/1 [00:04<00:00,  3.98s/it]"
     ]
    }
   ],
   "source": [
    "# Create a progress bar instance for monitoring\n",
    "n_steps=1\n",
    "progress_bar = tqdm(total=n_steps, initial=step, ncols=80, mininterval=1)\n",
    "# Start iterations\n",
    "while step < n_steps + 1:\n",
    "    # Iterate over the dataset\n",
    "    for real_samples in data_loader:\n",
    "        # Train the neural networks\n",
    "        generator.train()\n",
    "        d_loss, g_loss = train_one_step(d_optimizer, g_optimizer, real_samples[0])\n",
    "\n",
    "        # Record smoothened loss values to LiveLoss logger\n",
    "        if step > 0:\n",
    "            running_d_loss = 0.05 * d_loss + 0.95 * running_d_loss\n",
    "            running_g_loss = 0.05 * g_loss + 0.95 * running_g_loss\n",
    "        else:\n",
    "            running_d_loss, running_g_loss = 0.0, 0.0\n",
    "        liveloss.update({'negative_critic_loss': -running_d_loss})\n",
    "        # liveloss.update({'d_loss': running_d_loss, 'g_loss': running_g_loss})\n",
    "        \n",
    "        # Update losses to progress bar\n",
    "        progress_bar.set_description_str(\n",
    "            \"(d_loss={: 8.6f}, g_loss={: 8.6f})\".format(d_loss, g_loss))\n",
    "        \n",
    "        if step % sample_interval == 0:\n",
    "            # Get generated samples\n",
    "            generator.eval()\n",
    "            \n",
    "            samples = generator(sample_latent).cpu().detach().numpy()\n",
    "            history_samples[step] = samples\n",
    "\n",
    "            # Display loss curves\n",
    "            clear_output(True)\n",
    "            #if step > 0:\n",
    "                #liveloss.send()\n",
    "            \n",
    "            # Display generated samples\n",
    "            samples = samples.transpose(1, 0, 2, 3).reshape(n_tracks, -1, n_pitches)\n",
    "            tracks = []\n",
    "            for idx, (program, is_drum, track_name) in enumerate(\n",
    "                zip(programs, is_drums, track_names)\n",
    "            ):\n",
    "                pianoroll = np.pad(\n",
    "                    samples[idx] > 0.5,\n",
    "                    ((0, 0), (lowest_pitch, 128 - lowest_pitch - n_pitches))\n",
    "                )\n",
    "                tracks.append(\n",
    "                    StandardTrack(\n",
    "                        name=track_name,\n",
    "                        program=program,\n",
    "                        is_drum=is_drum,\n",
    "                        pianoroll=pianoroll\n",
    "                    )\n",
    "                )\n",
    "            m = Multitrack(\n",
    "                tracks=tracks,\n",
    "                tempo=tempo_array,\n",
    "                resolution=beat_resolution\n",
    "            )\n",
    "            axs = m.plot()\n",
    "            plt.gcf().set_size_inches((16, 8))\n",
    "            for ax in axs:\n",
    "                for x in range(\n",
    "                    measure_resolution,\n",
    "                    4 * measure_resolution * n_measures,\n",
    "                    measure_resolution\n",
    "                ):\n",
    "                    if x % (measure_resolution * 4) == 0:\n",
    "                        ax.axvline(x - 0.5, color='k')\n",
    "                    else:\n",
    "                        ax.axvline(x - 0.5, color='k', linestyle='-', linewidth=1)\n",
    "            plt.show()\n",
    "            \n",
    "        step += 1\n",
    "        progress_bar.update(1)\n",
    "        if step >= n_steps:\n",
    "            break"
   ]
  },
  {
   "cell_type": "code",
   "execution_count": 22,
   "id": "48f82d94",
   "metadata": {},
   "outputs": [
    {
     "data": {
      "text/plain": [
       "array([[[0., 0., 0., ..., 0., 0., 0.],\n",
       "        [0., 0., 0., ..., 0., 0., 0.],\n",
       "        [0., 0., 0., ..., 0., 0., 0.],\n",
       "        ...,\n",
       "        [0., 0., 0., ..., 0., 0., 0.],\n",
       "        [0., 0., 0., ..., 0., 0., 0.],\n",
       "        [0., 0., 0., ..., 0., 0., 0.]]], dtype=float32)"
      ]
     },
     "execution_count": 22,
     "metadata": {},
     "output_type": "execute_result"
    }
   ],
   "source": [
    "samples"
   ]
  },
  {
   "cell_type": "code",
   "execution_count": 28,
   "id": "7e585e45",
   "metadata": {
    "scrolled": true
   },
   "outputs": [
    {
     "name": "stderr",
     "output_type": "stream",
     "text": [
      "\r",
      "(d_loss=-2.849693, g_loss=-0.653828): 8001it [10:05, 12.56it/s]                 "
     ]
    }
   ],
   "source": [
    "pypianoroll.write(\"MuseGanElse1.mid\",m) "
   ]
  },
  {
   "cell_type": "code",
   "execution_count": 33,
   "id": "4e719cd0",
   "metadata": {},
   "outputs": [],
   "source": [
    "pypianoroll.write(\"MuseGan6000-4.mid\",m) "
   ]
  },
  {
   "cell_type": "code",
   "execution_count": 20,
   "id": "673a1360",
   "metadata": {},
   "outputs": [
    {
     "name": "stderr",
     "output_type": "stream",
     "text": [
      "\r",
      "(d_loss=-0.617162, g_loss=-0.691249): 1001it [01:40, 12.99it/s]                 "
     ]
    }
   ],
   "source": [
    "# Specify a path to save to\n",
    "PATH = \"modelElse.pt\"\n",
    "\n",
    "torch.save({\n",
    "            'Generator_state_dict': generator.state_dict(),\n",
    "            'Discriminator_state_dict':discriminator.state_dict(),\n",
    "            'd_optimizer_state_dict':d_optimizer.state_dict(),\n",
    "            'g_optimizer_state_dict':g_optimizer.state_dict()\n",
    "            }, PATH)"
   ]
  },
  {
   "cell_type": "code",
   "execution_count": 41,
   "id": "0b6bb640",
   "metadata": {},
   "outputs": [
    {
     "data": {
      "text/plain": [
       "<All keys matched successfully>"
      ]
     },
     "execution_count": 41,
     "metadata": {},
     "output_type": "execute_result"
    }
   ],
   "source": [
    "checkpoint = torch.load(PATH)\n",
    "modelA.load_state_dict(checkpoint['Generator_state_dict'])"
   ]
  },
  {
   "cell_type": "code",
   "execution_count": 51,
   "id": "638ed4e6",
   "metadata": {},
   "outputs": [],
   "source": [
    "sample_latent = torch.randn(n_samples, latent_dim)\n",
    "sample_latent = sample_latent.cuda()\n",
    "samples = generator(sample_latent).cpu().detach().numpy()"
   ]
  },
  {
   "cell_type": "code",
   "execution_count": 52,
   "id": "3121a6e8",
   "metadata": {},
   "outputs": [],
   "source": [
    "samples = samples.transpose(1, 0, 2, 3).reshape(n_tracks, -1, n_pitches)\n",
    "tracks = []\n",
    "for idx, (program, is_drum, track_name) in enumerate(\n",
    "    zip(programs, is_drums, track_names)\n",
    "):\n",
    "    pianoroll = np.pad(\n",
    "        samples[idx] > 0.5,\n",
    "        ((0, 0), (lowest_pitch, 128 - lowest_pitch - n_pitches))\n",
    "    )\n",
    "    tracks.append(\n",
    "        StandardTrack(\n",
    "            name=track_name,\n",
    "            program=program,\n",
    "            is_drum=is_drum,\n",
    "            pianoroll=pianoroll\n",
    "        )\n",
    "    )\n",
    "m = Multitrack(\n",
    "    tracks=tracks,\n",
    "    tempo=tempo_array,\n",
    "    resolution=beat_resolution\n",
    ")"
   ]
  },
  {
   "cell_type": "code",
   "execution_count": 53,
   "id": "b965be2e",
   "metadata": {},
   "outputs": [],
   "source": [
    "pypianoroll.write(\"MuseGan6000-9.mid\",m) "
   ]
  },
  {
   "cell_type": "code",
   "execution_count": null,
   "id": "bb52474e",
   "metadata": {},
   "outputs": [],
   "source": []
  }
 ],
 "metadata": {
  "kernelspec": {
   "display_name": "Python 3 (ipykernel)",
   "language": "python",
   "name": "python3"
  },
  "language_info": {
   "codemirror_mode": {
    "name": "ipython",
    "version": 3
   },
   "file_extension": ".py",
   "mimetype": "text/x-python",
   "name": "python",
   "nbconvert_exporter": "python",
   "pygments_lexer": "ipython3",
   "version": "3.9.5"
  }
 },
 "nbformat": 4,
 "nbformat_minor": 5
}
