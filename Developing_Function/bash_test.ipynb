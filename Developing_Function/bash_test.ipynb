{
 "cells": [
  {
   "cell_type": "code",
   "execution_count": 2,
   "id": "7c48b16b",
   "metadata": {},
   "outputs": [],
   "source": [
    "from subprocess import Popen\n",
    "p = Popen(\"test.bat\")\n",
    "stdout, stderr = p.communicate()"
   ]
  },
  {
   "cell_type": "code",
   "execution_count": 6,
   "id": "a64c82ab",
   "metadata": {},
   "outputs": [
    {
     "name": "stdout",
     "output_type": "stream",
     "text": [
      "chcp 65001\n",
      "\n",
      "cd C:\\Users\\ASUS\\OneDrive - 長庚大學\\桌面\\專題程式\\音樂生成\\開發\\Developing_Function\\fluid\\bin\n",
      "\n",
      "start fluidsynth.exe -F test3.wav test.sf2 intro.mid\n",
      "\n",
      "cd C:\\Users\\ASUS\\OneDrive - 長庚大學\\桌面\\專題程式\\音樂生成\\開發\\Developing_Function\n"
     ]
    }
   ],
   "source": [
    "f = open('test.bat',\"r\",encoding=\"utf-8\")\n",
    "for line in f:\n",
    "    print(line)\n",
    "f.close()"
   ]
  },
  {
   "cell_type": "code",
   "execution_count": 10,
   "id": "cb3127e6",
   "metadata": {},
   "outputs": [],
   "source": [
    "f = open('test3.bat', 'w',encoding=\"utf-8\")\n",
    "f.write(\"ch  cp 65001\\ncd C:\\\\Users\\\\ASUS\\\\OneDrive - 長庚大學\\\\桌面\\\\專題程式\\\\音樂生成\\\\開發\\Developing_Function\\\\fluid\\\\bin\")\n",
    "f.close()"
   ]
  },
  {
   "cell_type": "code",
   "execution_count": 4,
   "id": "61aa5c09",
   "metadata": {},
   "outputs": [],
   "source": [
    "import pydub\n",
    "import glob\n",
    "import os\n",
    "wav_files = glob.glob('./*.wav')\n",
    "\n",
    "for wav_file in wav_files:\n",
    "    mp3_file = os.path.splitext(wav_file)[0] + '.mp3'\n",
    "    sound = pydub.AudioSegment.from_wav(wav_file)\n",
    "    sound.export(mp3_file, format=\"mp3\")"
   ]
  },
  {
   "cell_type": "code",
   "execution_count": null,
   "id": "07628600",
   "metadata": {},
   "outputs": [],
   "source": []
  }
 ],
 "metadata": {
  "kernelspec": {
   "display_name": "Python 3 (ipykernel)",
   "language": "python",
   "name": "python3"
  },
  "language_info": {
   "codemirror_mode": {
    "name": "ipython",
    "version": 3
   },
   "file_extension": ".py",
   "mimetype": "text/x-python",
   "name": "python",
   "nbconvert_exporter": "python",
   "pygments_lexer": "ipython3",
   "version": "3.9.5"
  }
 },
 "nbformat": 4,
 "nbformat_minor": 5
}
